{
 "cells": [
  {
   "cell_type": "markdown",
   "metadata": {},
   "source": [
    "# Qsurface\n",
    "\n",
    "Qsurface is a simulation package for the surface code, and is designed to modularize 3 aspects of a surface code simulation.\n",
    "\n",
    "1. The surface code\n",
    "2. The error model\n",
    "3. The used decoder\n",
    "\n",
    "## Examples from the readme.\n",
    "\n",
    "The included examples in this section uses `qsurface.main.initialize` to setup the surface code and decoder, and `qsurface.main.run` to perform simulations. We'll expand these examples with more in-depth descriptions and  how to perform a threshold simulation with `qsurface.main.threshold`. \n",
    "\n",
    "To simulate the toric code and simulate with bit-flip error for 10 iterations and decode with the MWPM decoder:"
   ]
  },
  {
   "cell_type": "code",
   "execution_count": null,
   "metadata": {
    "tags": []
   },
   "outputs": [],
   "source": [
    "from qsurface.main import initialize, run, BenchmarkDecoder\n",
    "code, decoder = initialize((6,6), \"toric\", \"mwpm\", enabled_errors=[\"pauli\"])\n",
    "run(code, decoder, iterations=10, error_rates = {\"p_bitflip\": 0.1})"
   ]
  },
  {
   "cell_type": "markdown",
   "metadata": {},
   "source": [
    "Benchmarking of decoders can be enabled by attaching a *benchmarker* object to the decoder. See the docs for the syntax and information to setup benchmarking."
   ]
  },
  {
   "cell_type": "code",
   "execution_count": null,
   "metadata": {},
   "outputs": [],
   "source": [
    "benchmarker = BenchmarkDecoder({\"decode\":\"duration\"})\n",
    "code, decoder = initialize((6,6), \"toric\", \"mwpm\", enabled_errors=[\"pauli\"])\n",
    "run(code, decoder, iterations=10, error_rates = {\"p_bitflip\": 0.1}, benchmark=benchmarker)"
   ]
  },
  {
   "cell_type": "markdown",
   "metadata": {},
   "source": [
    "\n",
    "The figures in Qsurface allows for step-by-step visualization of the surface code simulation (and if supported the decoding process). Each figure logs its history such that the user can move backwards in time to view past states of the surface (and decoder). Press `h` when the figure is open for more information.\n",
    "\n",
    "The GUI of the figure is made possible by the PyQt5 or Tkinter backend. However, for Jupyter notebooks such as this one, the GUI is not available. Qsurface automatically detects this and plots each iteration inline instead. If you're running the notebook locally, or have proper X11 forwarding setup, you can still force the PyQt5 or Tkinter with the magic `%matplotlib qt` or `%matplotlib tk` prior to importing qsurface. "
   ]
  },
  {
   "cell_type": "code",
   "execution_count": null,
   "metadata": {
    "tags": []
   },
   "outputs": [],
   "source": [
    "# When display is available interactive plotting can be enabled by either \n",
    "# %matplotlib qt\n",
    "# or \n",
    "# %matplotlib tk\n",
    "from qsurface.main import initialize, run, BenchmarkDecoder\n",
    "code, decoder = initialize(\n",
    "    (3,3),\n",
    "    \"toric\",\n",
    "    \"mwpm\",\n",
    "    enabled_errors=[\"pauli\"],\n",
    "    plotting=True,\n",
    "    initial_states=(0,0),\n",
    ")\n",
    "run(code, decoder, error_rates = {\"p_bitflip\": 0.1, \"p_phaseflip\": 0.1}, decode_initial=False, iterations=1)"
   ]
  },
  {
   "cell_type": "code",
   "execution_count": null,
   "metadata": {},
   "outputs": [],
   "source": [
    "from qsurface.main import initialize, run, BenchmarkDecoder\n",
    "code, decoder = initialize((3,3), \"toric\", \"mwpm\", enabled_errors=[\"pauli\"], faulty_measurements=True, plotting=True, initial_states=(0,0))\n",
    "run(code, decoder, error_rates = {\"p_bitflip\": 0.05, \"pm_bitflip\": 0.05}, decode_initial=False)"
   ]
  }
 ],
 "metadata": {
  "kernelspec": {
   "display_name": "Python 3.9.0 64-bit ('matplotlib34')",
   "metadata": {
    "interpreter": {
     "hash": "e34dec7d75d7c83c55b9c6f024af2f7a8fb83b2b2afb6029879e4fbdbc47e352"
    }
   },
   "name": "python3"
  },
  "language_info": {
   "codemirror_mode": {
    "name": "ipython",
    "version": 3
   },
   "file_extension": ".py",
   "mimetype": "text/x-python",
   "name": "python",
   "nbconvert_exporter": "python",
   "pygments_lexer": "ipython3",
   "version": "3.9.0-final"
  }
 },
 "nbformat": 4,
 "nbformat_minor": 2
}
